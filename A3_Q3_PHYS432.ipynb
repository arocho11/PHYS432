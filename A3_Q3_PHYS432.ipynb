{
 "cells": [
  {
   "cell_type": "markdown",
   "metadata": {},
   "source": [
    "Assignment #3 Question 3 - LAva flowing down: numerical exercise\n",
    "\n",
    "@author: Alexandra Rochon @collab: Olivia Locke (consulted) 26/02/24"
   ]
  },
  {
   "cell_type": "code",
   "execution_count": 1,
   "metadata": {},
   "outputs": [],
   "source": [
    "import numpy as np\n",
    "import matplotlib.pyplot as plt\n",
    "%matplotlib inline"
   ]
  },
  {
   "cell_type": "markdown",
   "metadata": {},
   "source": [
    "Here's a recommended workflow to guide you:\n",
    "\n",
    "- Determine the equation to solve (i.e., which parts of the momentum equation are relevant in this problem?)\n",
    "- Label your code with a brief description, your name, names of your collaborators, and date, following the same setup as the numerical exercise in PS2.\n",
    "- Set the proper timestep, grid resolution, diffusion coefficient, and gravitational acceleration.\n",
    "- Use the implicit method and apply the appropriate boundary conditions. Remember that the no-slip condition requires 𝑢(0)=0 at all times at the leftmost edge of your grid.\n",
    "- Make sure to account for gravity.\n",
    "- Make sure to include the analytic steady-state solution in your animation at all times as a comparison.\n",
    "- You may use whichever method you like to produce the animation."
   ]
  },
  {
   "cell_type": "code",
   "execution_count": null,
   "metadata": {},
   "outputs": [],
   "source": []
  },
  {
   "cell_type": "code",
   "execution_count": null,
   "metadata": {},
   "outputs": [],
   "source": []
  },
  {
   "cell_type": "code",
   "execution_count": null,
   "metadata": {},
   "outputs": [],
   "source": []
  }
 ],
 "metadata": {
  "kernelspec": {
   "display_name": "Python 3",
   "language": "python",
   "name": "python3"
  },
  "language_info": {
   "codemirror_mode": {
    "name": "ipython",
    "version": 3
   },
   "file_extension": ".py",
   "mimetype": "text/x-python",
   "name": "python",
   "nbconvert_exporter": "python",
   "pygments_lexer": "ipython3",
   "version": "3.8.3"
  }
 },
 "nbformat": 4,
 "nbformat_minor": 4
}
