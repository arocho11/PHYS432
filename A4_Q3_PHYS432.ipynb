{
 "cells": [
  {
   "cell_type": "markdown",
   "metadata": {},
   "source": [
    "#### Assignment #4 Question 3 - Adiabatic shocks : numerical exercise \n",
    "\n",
    "@authors: Alexandra Rochon, Olivia Locke 25/03/24"
   ]
  },
  {
   "cell_type": "code",
   "execution_count": 7,
   "metadata": {},
   "outputs": [],
   "source": [
    "import numpy as np\n",
    "import matplotlib.pyplot as pl\n",
    "import math\n",
    "from IPython.display import display, clear_output\n",
    "import imageio\n",
    "from PIL import Image\n",
    "import io"
   ]
  },
  {
   "cell_type": "markdown",
   "metadata": {},
   "source": [
    "Remember that you are evolving $\\rho$, $\\rho_u$ and $\\rho_e$tot (density, momentum per volume, total energy per volume).\n",
    "Always start your code by setting up the grid and time resolution, relevant constants in the problem, initial conditions, and configuring the plots.\n",
    "For the initial condition, apply a Gaussian perturbation 𝛿(𝜌𝑒tot) to energy such that 𝜌𝑒tot(𝑡=0)=1+$\\delta$(𝜌𝑒tot). Set the perturbation amplitude and width appropriate for a strong shock. Set 𝜌(𝑡=0)=1 and 𝑢(𝑡=0)=0.\n",
    "You will have to keep track of pressure 𝑃 and sound speed 𝑐𝑠. Think about how you can estimate these two quantities from 𝜌, 𝜌𝑢, and 𝜌𝑒tot.\n",
    "Consider defining a function for taking care of advection since you will have to apply donor cell advection to all three fluid equations.\n",
    "Code stability depends on the order of computation. Here is my recommendation:\n",
    "1. Compute the advection velocity at the cell interfaces and at the simulation boundaries.\n",
    "2. Advect density, then momentum.\n",
    "3. Compute pressure and apply the pressure gradient force to the momentum equation.\n",
    "4. You will have to correct for the pressure gradient force at the simulation boundaries for the momentum equation.\n",
    "5. Re-calculate the advection velocities.\n",
    "6. Advect energy.\n",
    "7. Re-compute pressure and apply the corresponding source term to the energy equation.\n",
    "8. Again, correct for the source term at the simulation boundaries for the energy equation.\n",
    "9. Before updating your plot, re-calculate pressure and sound speed."
   ]
  },
  {
   "cell_type": "code",
   "execution_count": 2,
   "metadata": {},
   "outputs": [],
   "source": [
    "# set up grid\n",
    "Ngrid = 50\n",
    "\n",
    "# set up steps\n",
    "Nsteps = 50000 \n",
    "dt = 0.0001\n",
    "dx = 1.0\n",
    "\n",
    "# constants\n",
    "gamma = 5/3"
   ]
  },
  {
   "cell_type": "code",
   "execution_count": 15,
   "metadata": {},
   "outputs": [
    {
     "data": {
      "image/png": "[encoded data removed]",
      "text/plain": [
       "<Figure size 432x288 with 2 Axes>"
      ]
     },
     "metadata": {},
     "output_type": "display_data"
    }
   ],
   "source": [
    "# define and name steps for easy future use\n",
    "N = Ngrid\n",
    "N_minus_1 = N\n",
    "N_plus_1 = N+1\n",
    "N_ = N+1\n",
    "N_1 = N\n",
    "N_2 = N-1\n",
    "N_3 = N-2\n",
    "\n",
    "# set up arrays for calculations\n",
    "x = np.arange(0., N*dx, dx)  # x distance variable\n",
    "f1 = np.ones(N)              # f1 = rho       \n",
    "f2 = np.zeros(N)             # f2 = rho * u   \n",
    "f3 = np.ones(N)              # f3 = rho * energy_total \n",
    "u = np.zeros(N+1)            # u = advective velocity\n",
    "Jflux = np.zeros(N+1)        # array for temporary calc of flux thru cells\n",
    "\n",
    "# calculate a gaussian with (a=amp, b=mean, c=stddev)\n",
    "a=300\n",
    "b=N*dx/2.0\n",
    "c=5.0\n",
    "def gaussian(x):\n",
    "    return a*math.exp(-(x-b)**2.0/c**2.0)\n",
    "\n",
    "# add gaussian pertibation to f3 (energy)\n",
    "for xx in range(0,N_1):\n",
    "    f3[xx] = f3[xx]*(1.0 + gaussian(xx*dx))\n",
    "\n",
    "P = (gamma-1) * f1 * (f3/f1 - (f2/f1)**2/2)\n",
    "Cs = np.sqrt(gamma * P/f1)\n",
    "Mach = u[0:N] / Cs\n",
    "\n",
    "# Set up plot\n",
    "pl.ion()\n",
    "fig, axes = pl.subplots(1, 2)\n",
    "\n",
    "# we will be updating these plotting objects\n",
    "plt1, = axes[0].plot(x, f1, 'r-')\n",
    "plt2, = axes[1].plot(x, Mach, 'b-') \n",
    "\n",
    "# set axes limits\n",
    "axes[0].set_xlim([0,N*dx])\n",
    "axes[1].set_xlim([0,N*dx])\n",
    "# axes[0].set_ylim([0.9998,1.0005])\n",
    "axes[0].set_ylim([-1,10])\n",
    "axes[1].set_ylim([-1,1])\n",
    "axes[0].set_xlabel('Distance (m)')\n",
    "axes[1].set_xlabel('Distance (m)')\n",
    "axes[0].set_ylabel('Density (kg/m^3)')\n",
    "axes[1].set_ylabel('Mach Number')\n",
    "fig.tight_layout(pad=5.0)\n",
    "fig.canvas.draw()\n",
    "\n",
    "count = 0\n",
    "plot_images = []\n",
    "\n",
    "# Evolution\n",
    "while count < Nsteps:\n",
    "    \n",
    "    ### First numerical step (n + 1/2)  -  NO SOURCE Term\n",
    "    \n",
    "    # Calculate velocity u at the cell centers  \n",
    "    # u[0] = u[N] = 0 \n",
    "    u[1:N_1] = 0.5*( f2[0:N_2]/f1[0:N_2] + f2[1:N_1]/f1[1:N_1] )\n",
    "    \n",
    "    # Calculate flux for f1 = rho\n",
    "    # Jflux[0] = Jflux[N] = 0\n",
    "    for i in range(1,N_1):  # 1..N-1\n",
    "        if (u[i] > 0.0):\n",
    "            Jflux[i] = u[i]*f1[i-1]\n",
    "        else:\n",
    "            Jflux[i] = u[i]*f1[i]\n",
    " \n",
    "    # calculate f1 function; continuity equation   \"Conservation of Mass\"\n",
    "    f1[0:N_1] = f1[0:N_1] - dt/dx * ( Jflux[1:N_] - Jflux[0:N_1] )\n",
    "    \n",
    "    # Calculate flux for f2 = rho*u = momentum\n",
    "    # note Jflux[0] = Jflux[N] = 0\n",
    "    for i in range(1,N_1):\n",
    "        if (u[i] > 0.0):\n",
    "            Jflux[i] = u[i]*f2[i-1]\n",
    "        else:\n",
    "            Jflux[i] = u[i]*f2[i]\n",
    "         \n",
    "    # calculate f2 function; Euler equation   \"Conservation of Momentum\"\n",
    "    f2[0:N_1] = f2[0:N_1] - dt/dx * ( Jflux[1:N_] - Jflux[0:N_1] )\n",
    " \n",
    "    # pressure attempt\n",
    "    P = (gamma - 1) * f1 * (f3/f1 - (f2/f1)**2 / 2)\n",
    "    \n",
    "    # calculate source term for momentum\n",
    "    f2[1:N_2] = f2[1:N_2] -  (dt/(2*dx)) * (P[2:N_1] - P[0:N_3])\n",
    "    \n",
    "    # boundary conditions \n",
    "    f2[0] = f2[0] - 0.5* dt/dx * (P[1] - P[0])\n",
    "    f2[N-1] = f2[N-1] - 0.5* dt/dx * (P[N-1] - P[N-2])\n",
    "    \n",
    "    # re-calculate advection velocities \n",
    "    u[1:N_1] = 0.5*( f2[0:N_2]/f1[0:N_2] + f2[1:N_1]/f1[1:N_1] )\n",
    "    \n",
    "    ##  energy advection \n",
    "    for i in range(1,N_1): \n",
    "        if (u[i] > 0.0):\n",
    "            Jflux[i] = u[i]*f3[i-1]\n",
    "        else:\n",
    "            Jflux[i] = u[i]*f3[i]\n",
    " \n",
    "    # calculate f3 function; energy conservation\n",
    "    f3[0:N_1] = f3[0:N_1] - dt/dx * (Jflux[1:N_] - Jflux[0:N_1])\n",
    "    \n",
    "    # pressure again \n",
    "    P = (5/3-1) * f1 * (f3/f1 - (f2/f1)**2/2)\n",
    "    \n",
    "    f3[1:N_2] = f3[1:N_2] -  (dt/(2*dx)) * (P[2:N_1] * u[2:N_1] - P[0:N_3] * u[0:N_3])\n",
    "    \n",
    "    # boundary conditions \n",
    "    f3[0] = f3[0] - 0.5* dt/dx * (P[1]*u[1] - P[0]*u[0])\n",
    "    f3[N-1] = f3[N-1] - 0.5* dt/dx * (P[N-1]*u[N-1] - P[N-2]*u[N-2])\n",
    "    \n",
    "    # recalculate pressure  \n",
    "    P = (5/3-1) * f1 * (f3/f1 - (f2/f1)**2/2)\n",
    "\n",
    "    # recalculate speed of sound\n",
    "    Cs = np.sqrt(5/3 * P/f1)\n",
    "    \n",
    "    Mach = u[0:N] / Cs\n",
    "\n",
    "    if (count % 100) == 0:\n",
    "        ## update the plots\n",
    "        plt1.set_ydata(f1)\n",
    "        plt2.set_ydata(Mach)\n",
    "    \n",
    "        # Save the plot\n",
    "        fig.canvas.draw()\n",
    "        plot_image = np.frombuffer(fig.canvas.tostring_rgb(), dtype='uint8')\n",
    "        plot_image = plot_image.reshape(fig.canvas.get_width_height()[::-1] + (3,))\n",
    "        plot_images.append(plot_image)\n",
    "    \n",
    "        # display plots\n",
    "        display(fig)\n",
    "        clear_output(wait=True)\n",
    "    \n",
    "        pl.pause(0.001)\n",
    "    \n",
    "    # add to count (for next loop through)\n",
    "    count += 1\n",
    "\n",
    "# Create a gif from saved plots\n",
    "imageio.mimsave('shocks.gif', plot_images)\n"
   ]
  },
  {
   "cell_type": "code",
   "execution_count": 71,
   "metadata": {},
   "outputs": [
    {
     "name": "stdout",
     "output_type": "stream",
     "text": [
      "4.0\n"
     ]
    }
   ],
   "source": [
    "ratio = (gamma - 1) / (gamma + 1) \n",
    "print(ratio)"
   ]
  },
  {
   "cell_type": "markdown",
   "metadata": {},
   "source": [
    "The ratio of densities pre/post shock is equal to ($\\gamma$+1) / ($\\gamma$-1). $\\gamma$ is equal to 5/3. We set the inital density to 1 and the density post shock is around 3, for a ratio of 1/3. The computed value is 1/4, so they are similar. Thus the compression factor for a strong shock is close to ($\\gamma$+1) / ($\\gamma$-1). See the gif for reference."
   ]
  },
  {
   "cell_type": "markdown",
   "metadata": {},
   "source": [
    "The width of the shocks $\\Delta$x scales like viscosity over velocity or $\\lambda$ mean free path over Mach number. From the plot, the width is 15. "
   ]
  },
  {
   "cell_type": "code",
   "execution_count": null,
   "metadata": {},
   "outputs": [],
   "source": []
  }
 ],
 "metadata": {
  "kernelspec": {
   "display_name": "Python 3",
   "language": "python",
   "name": "python3"
  },
  "language_info": {
   "codemirror_mode": {
    "name": "ipython",
    "version": 3
   },
   "file_extension": ".py",
   "mimetype": "text/x-python",
   "name": "python",
   "nbconvert_exporter": "python",
   "pygments_lexer": "ipython3",
   "version": "3.8.3"
  }
 },
 "nbformat": 4,
 "nbformat_minor": 4
}
