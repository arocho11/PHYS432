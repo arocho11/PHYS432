{
 "cells": [
  {
   "cell_type": "markdown",
   "id": "c210e2a9",
   "metadata": {},
   "source": [
    "Insert description of code \n",
    "\n",
    "@author : Olivia Locke\n",
    "02/07/2024"
   ]
  },
  {
   "cell_type": "code",
   "execution_count": null,
   "id": "254ed2ac",
   "metadata": {},
   "outputs": [],
   "source": [
    "import numpy as np\n",
    "import matplotlib.pyplot as pl"
   ]
  },
  {
   "cell_type": "code",
   "execution_count": null,
   "id": "e2be1817",
   "metadata": {},
   "outputs": [],
   "source": [
    "dt = \n",
    "Nsteps = "
   ]
  },
  {
   "cell_type": "code",
   "execution_count": null,
   "id": "b44ff84a",
   "metadata": {},
   "outputs": [],
   "source": [
    "## Setting up initial conditions (vortex centres and circulation)\n",
    "# Vortex rings\n",
    "y_v = np.array([insert the y−positions of the 4 vortices])\n",
    "x_v = np.array([insert the x−positions of the 4 vortices])\n",
    "k_v = np.array([insert the line vortex constant k of the 4 vortices])"
   ]
  },
  {
   "cell_type": "code",
   "execution_count": null,
   "id": "cea7ae1e",
   "metadata": {},
   "outputs": [],
   "source": [
    "# Setting up the plot\n",
    "pl.ion( )\n",
    "fig, ax = pl.subplots(1,1)\n",
    "\n",
    "# mark the initial positions of vortices\n",
    "p, = ax.plot(x_v, y_v, 'k+', markersize=10)\n",
    "#pl a y around with the marker s i z e and type a s you s e e f i t"
   ]
  },
  {
   "cell_type": "code",
   "execution_count": null,
   "id": "dffe7da4",
   "metadata": {},
   "outputs": [],
   "source": [
    "# draw the initial velocity streamline\n",
    "ngrid = insert the dimen sion of your simulation grid\n",
    "Y, X = np.mgrid[−ngrid:ngrid:360j, −ngrid:ngrid:360j]\n",
    "#360j sets the resolution of the cartesian grid; play around with it as you see fit\n",
    "vel_x = np.zeros(np.shape(Y)) #this holds x−velocity\n",
    "vel_y = np.zeros(np.shape(Y)) #this holds y−velocity"
   ]
  },
  {
   "cell_type": "code",
   "execution_count": null,
   "id": "ffe57e38",
   "metadata": {},
   "outputs": [],
   "source": [
    "# masking radius for better visualization of the vortex centers\n",
    "r_mask = insert the radius of the mask around the vortex centers\n",
    "#within this mask, you will not plot any streamline \n",
    "#so that you can see more clearly the movement of the vortex centers"
   ]
  },
  {
   "cell_type": "code",
   "execution_count": null,
   "id": "5150ca5e",
   "metadata": {},
   "outputs": [],
   "source": [
    "for i in range(len(x_v)): # looping over each vortex\n",
    "    # insert lines for computing the total velocity field\n",
    "    # insert lines for masking (set the masking area to NaN)"
   ]
  },
  {
   "cell_type": "code",
   "execution_count": null,
   "id": "896cc99b",
   "metadata": {},
   "outputs": [],
   "source": [
    "# set up the boundaries of the simulation box\n",
    "ax.set_xlim([−ngrid, ngrid])\n",
    "ax.set_ylim([−ngrid, ngrid])\n",
    "\n",
    "# initial plot of the streamlines\n",
    "ax.streamplot(X, Y, vel_x, vel_y, density=[1, 1])\n",
    "#play around with density as you see fit;\n",
    "#see the API documentation for more detail\n",
    "\n",
    "fig.canvas.draw( )"
   ]
  },
  {
   "cell_type": "code",
   "execution_count": null,
   "id": "e37896bd",
   "metadata": {},
   "outputs": [],
   "source": [
    "# Evolution\n",
    "count = 0\n",
    "while count < Nsteps:\n",
    "    ## Compute and update advection velocity\n",
    "    # insert lines to re-initialize the total velocity field\n",
    "    for i in range(len(x_v)): \n",
    "        # insert lines to compute the total \n",
    "        # advection veclocity on each vortex \n",
    "        \n",
    "    # insert lines to update the positions of vortices \n",
    "    \n",
    "    # insert lines to re−inialize the total velocity field\n",
    "    for i in range(len(x_v)): \n",
    "        # insert lines to update the streamlines and masking \n",
    "    \n",
    "    ## update plot\n",
    "    # the following two lines clear out the previous streamlines \n",
    "    ax.collections = [ ]\n",
    "    ax.patches = [ ]\n",
    "    \n",
    "    p.setxdata(x_v)\n",
    "    p.setydata(y_v)\n",
    "    \n",
    "    ax.streamplot(X, Y, vel_x, vel_y, density=[1,1])\n",
    "    \n",
    "    fig.canvas.draw( )\n",
    "    pl.pause(0.001) # play around with the delay time for better visualization\n",
    "    count += 1"
   ]
  }
 ],
 "metadata": {
  "kernelspec": {
   "display_name": "Python 3 (ipykernel)",
   "language": "python",
   "name": "python3"
  },
  "language_info": {
   "codemirror_mode": {
    "name": "ipython",
    "version": 3
   },
   "file_extension": ".py",
   "mimetype": "text/x-python",
   "name": "python",
   "nbconvert_exporter": "python",
   "pygments_lexer": "ipython3",
   "version": "3.8.18"
  }
 },
 "nbformat": 4,
 "nbformat_minor": 5
}
